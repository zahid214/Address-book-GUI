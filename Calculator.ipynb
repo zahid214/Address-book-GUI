{
  "nbformat": 4,
  "nbformat_minor": 0,
  "metadata": {
    "colab": {
      "provenance": [],
      "authorship_tag": "ABX9TyPz6SOBeACr2l3mFS7ukyV/",
      "include_colab_link": true
    },
    "kernelspec": {
      "name": "python3",
      "display_name": "Python 3"
    },
    "language_info": {
      "name": "python"
    }
  },
  "cells": [
    {
      "cell_type": "markdown",
      "metadata": {
        "id": "view-in-github",
        "colab_type": "text"
      },
      "source": [
        "<a href=\"https://colab.research.google.com/github/zahid214/Address-book-GUI/blob/main/Calculator.ipynb\" target=\"_parent\"><img src=\"https://colab.research.google.com/assets/colab-badge.svg\" alt=\"Open In Colab\"/></a>"
      ]
    },
    {
      "cell_type": "code",
      "execution_count": 1,
      "metadata": {
        "id": "rsJLhGRBDxl6"
      },
      "outputs": [],
      "source": [
        "def basic_calculator(a,b,operation):\n",
        "\n",
        "  if (a.isnumeric() & b.isnumeric()):\n",
        "    a=float(a)\n",
        "    b=float(b)\n",
        "    if operation == \"+\":\n",
        "      result = a + b\n",
        "    elif operation == \"-\":\n",
        "      result = a - b\n",
        "    elif operation == \"/\":\n",
        "      result = a / b\n",
        "    elif operation == \"*\":\n",
        "      result = a * b\n",
        "    else:\n",
        "      result = \"Operations supported: add, subtract, divide, multiple only\"\n",
        "    \n",
        "  else:\n",
        "    result = \"Please enter a valid number for a & b\"\n",
        "    \n",
        "\n",
        "  return result"
      ]
    },
    {
      "cell_type": "code",
      "source": [
        "basic_calculator('8', '9', '*')"
      ],
      "metadata": {
        "colab": {
          "base_uri": "https://localhost:8080/"
        },
        "id": "ipCC2ZKuEIJ2",
        "outputId": "b102ee97-5de7-4ea6-f75d-f4b66ba536c9"
      },
      "execution_count": 7,
      "outputs": [
        {
          "output_type": "execute_result",
          "data": {
            "text/plain": [
              "72.0"
            ]
          },
          "metadata": {},
          "execution_count": 7
        }
      ]
    }
  ]
}