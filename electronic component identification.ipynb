{
  "cells": [
    {
      "cell_type": "markdown",
      "metadata": {
        "id": "view-in-github",
        "colab_type": "text"
      },
      "source": [
        "<a href=\"https://colab.research.google.com/github/zahid214/Address-book-GUI/blob/main/electronic%20component%20identification.ipynb\" target=\"_parent\"><img src=\"https://colab.research.google.com/assets/colab-badge.svg\" alt=\"Open In Colab\"/></a>"
      ]
    },
    {
      "cell_type": "code",
      "execution_count": null,
      "metadata": {
        "id": "_rKdprv9IKAF"
      },
      "outputs": [],
      "source": [
        "import numpy as np\n",
        "import matplotlib.pyplot as plt\n",
        "import random\n",
        "import os\n",
        "import PIL\n",
        "from keras.utils import np_utils\n",
        "from keras.models import Sequential\n",
        "from keras.layers.core import Dense, Dropout, Activation\n",
        "from skimage.transform import resize\n",
        "from sklearn.metrics import confusion_matrix"
      ]
    },
    {
      "cell_type": "code",
      "execution_count": null,
      "metadata": {
        "colab": {
          "base_uri": "https://localhost:8080/",
          "height": 73
        },
        "id": "hp5Ji-QeINr4",
        "outputId": "47f85441-ac34-4b9b-e97c-2221281b47d2"
      },
      "outputs": [
        {
          "data": {
            "text/html": [
              "\n",
              "     <input type=\"file\" id=\"files-5f87b0df-a60b-43a0-842c-8bb438c5e30e\" name=\"files[]\" multiple disabled\n",
              "        style=\"border:none\" />\n",
              "     <output id=\"result-5f87b0df-a60b-43a0-842c-8bb438c5e30e\">\n",
              "      Upload widget is only available when the cell has been executed in the\n",
              "      current browser session. Please rerun this cell to enable.\n",
              "      </output>\n",
              "      <script>// Copyright 2017 Google LLC\n",
              "//\n",
              "// Licensed under the Apache License, Version 2.0 (the \"License\");\n",
              "// you may not use this file except in compliance with the License.\n",
              "// You may obtain a copy of the License at\n",
              "//\n",
              "//      http://www.apache.org/licenses/LICENSE-2.0\n",
              "//\n",
              "// Unless required by applicable law or agreed to in writing, software\n",
              "// distributed under the License is distributed on an \"AS IS\" BASIS,\n",
              "// WITHOUT WARRANTIES OR CONDITIONS OF ANY KIND, either express or implied.\n",
              "// See the License for the specific language governing permissions and\n",
              "// limitations under the License.\n",
              "\n",
              "/**\n",
              " * @fileoverview Helpers for google.colab Python module.\n",
              " */\n",
              "(function(scope) {\n",
              "function span(text, styleAttributes = {}) {\n",
              "  const element = document.createElement('span');\n",
              "  element.textContent = text;\n",
              "  for (const key of Object.keys(styleAttributes)) {\n",
              "    element.style[key] = styleAttributes[key];\n",
              "  }\n",
              "  return element;\n",
              "}\n",
              "\n",
              "// Max number of bytes which will be uploaded at a time.\n",
              "const MAX_PAYLOAD_SIZE = 100 * 1024;\n",
              "\n",
              "function _uploadFiles(inputId, outputId) {\n",
              "  const steps = uploadFilesStep(inputId, outputId);\n",
              "  const outputElement = document.getElementById(outputId);\n",
              "  // Cache steps on the outputElement to make it available for the next call\n",
              "  // to uploadFilesContinue from Python.\n",
              "  outputElement.steps = steps;\n",
              "\n",
              "  return _uploadFilesContinue(outputId);\n",
              "}\n",
              "\n",
              "// This is roughly an async generator (not supported in the browser yet),\n",
              "// where there are multiple asynchronous steps and the Python side is going\n",
              "// to poll for completion of each step.\n",
              "// This uses a Promise to block the python side on completion of each step,\n",
              "// then passes the result of the previous step as the input to the next step.\n",
              "function _uploadFilesContinue(outputId) {\n",
              "  const outputElement = document.getElementById(outputId);\n",
              "  const steps = outputElement.steps;\n",
              "\n",
              "  const next = steps.next(outputElement.lastPromiseValue);\n",
              "  return Promise.resolve(next.value.promise).then((value) => {\n",
              "    // Cache the last promise value to make it available to the next\n",
              "    // step of the generator.\n",
              "    outputElement.lastPromiseValue = value;\n",
              "    return next.value.response;\n",
              "  });\n",
              "}\n",
              "\n",
              "/**\n",
              " * Generator function which is called between each async step of the upload\n",
              " * process.\n",
              " * @param {string} inputId Element ID of the input file picker element.\n",
              " * @param {string} outputId Element ID of the output display.\n",
              " * @return {!Iterable<!Object>} Iterable of next steps.\n",
              " */\n",
              "function* uploadFilesStep(inputId, outputId) {\n",
              "  const inputElement = document.getElementById(inputId);\n",
              "  inputElement.disabled = false;\n",
              "\n",
              "  const outputElement = document.getElementById(outputId);\n",
              "  outputElement.innerHTML = '';\n",
              "\n",
              "  const pickedPromise = new Promise((resolve) => {\n",
              "    inputElement.addEventListener('change', (e) => {\n",
              "      resolve(e.target.files);\n",
              "    });\n",
              "  });\n",
              "\n",
              "  const cancel = document.createElement('button');\n",
              "  inputElement.parentElement.appendChild(cancel);\n",
              "  cancel.textContent = 'Cancel upload';\n",
              "  const cancelPromise = new Promise((resolve) => {\n",
              "    cancel.onclick = () => {\n",
              "      resolve(null);\n",
              "    };\n",
              "  });\n",
              "\n",
              "  // Wait for the user to pick the files.\n",
              "  const files = yield {\n",
              "    promise: Promise.race([pickedPromise, cancelPromise]),\n",
              "    response: {\n",
              "      action: 'starting',\n",
              "    }\n",
              "  };\n",
              "\n",
              "  cancel.remove();\n",
              "\n",
              "  // Disable the input element since further picks are not allowed.\n",
              "  inputElement.disabled = true;\n",
              "\n",
              "  if (!files) {\n",
              "    return {\n",
              "      response: {\n",
              "        action: 'complete',\n",
              "      }\n",
              "    };\n",
              "  }\n",
              "\n",
              "  for (const file of files) {\n",
              "    const li = document.createElement('li');\n",
              "    li.append(span(file.name, {fontWeight: 'bold'}));\n",
              "    li.append(span(\n",
              "        `(${file.type || 'n/a'}) - ${file.size} bytes, ` +\n",
              "        `last modified: ${\n",
              "            file.lastModifiedDate ? file.lastModifiedDate.toLocaleDateString() :\n",
              "                                    'n/a'} - `));\n",
              "    const percent = span('0% done');\n",
              "    li.appendChild(percent);\n",
              "\n",
              "    outputElement.appendChild(li);\n",
              "\n",
              "    const fileDataPromise = new Promise((resolve) => {\n",
              "      const reader = new FileReader();\n",
              "      reader.onload = (e) => {\n",
              "        resolve(e.target.result);\n",
              "      };\n",
              "      reader.readAsArrayBuffer(file);\n",
              "    });\n",
              "    // Wait for the data to be ready.\n",
              "    let fileData = yield {\n",
              "      promise: fileDataPromise,\n",
              "      response: {\n",
              "        action: 'continue',\n",
              "      }\n",
              "    };\n",
              "\n",
              "    // Use a chunked sending to avoid message size limits. See b/62115660.\n",
              "    let position = 0;\n",
              "    do {\n",
              "      const length = Math.min(fileData.byteLength - position, MAX_PAYLOAD_SIZE);\n",
              "      const chunk = new Uint8Array(fileData, position, length);\n",
              "      position += length;\n",
              "\n",
              "      const base64 = btoa(String.fromCharCode.apply(null, chunk));\n",
              "      yield {\n",
              "        response: {\n",
              "          action: 'append',\n",
              "          file: file.name,\n",
              "          data: base64,\n",
              "        },\n",
              "      };\n",
              "\n",
              "      let percentDone = fileData.byteLength === 0 ?\n",
              "          100 :\n",
              "          Math.round((position / fileData.byteLength) * 100);\n",
              "      percent.textContent = `${percentDone}% done`;\n",
              "\n",
              "    } while (position < fileData.byteLength);\n",
              "  }\n",
              "\n",
              "  // All done.\n",
              "  yield {\n",
              "    response: {\n",
              "      action: 'complete',\n",
              "    }\n",
              "  };\n",
              "}\n",
              "\n",
              "scope.google = scope.google || {};\n",
              "scope.google.colab = scope.google.colab || {};\n",
              "scope.google.colab._files = {\n",
              "  _uploadFiles,\n",
              "  _uploadFilesContinue,\n",
              "};\n",
              "})(self);\n",
              "</script> "
            ],
            "text/plain": [
              "<IPython.core.display.HTML object>"
            ]
          },
          "metadata": {},
          "output_type": "display_data"
        },
        {
          "name": "stdout",
          "output_type": "stream",
          "text": [
            "Saving dataset.zip to dataset (1).zip\n"
          ]
        }
      ],
      "source": [
        "from google.colab import files\n",
        "uploaded = files.upload()"
      ]
    },
    {
      "cell_type": "code",
      "execution_count": null,
      "metadata": {
        "colab": {
          "base_uri": "https://localhost:8080/"
        },
        "id": "CdZ7xi4pIZmn",
        "outputId": "0d4d23eb-08c9-481f-b7bc-1e8b68e769c9"
      },
      "outputs": [
        {
          "name": "stdout",
          "output_type": "stream",
          "text": [
            "Done\n"
          ]
        }
      ],
      "source": [
        "from zipfile import ZipFile\n",
        "file_name = \"/content/dataset.zip\"\n",
        "with ZipFile(file_name, 'r') as zipp:\n",
        "  zipp.extractall()\n",
        "  print('Done')"
      ]
    },
    {
      "cell_type": "code",
      "execution_count": null,
      "metadata": {
        "id": "EO-Mxbd0IfN0"
      },
      "outputs": [],
      "source": [
        "dataset_path = \"/content/dataset\"\n",
        "#desired resolution of image\n",
        "TARGET_WIDTH = 28\n",
        "TARGET_HEIGHT = 28\n",
        "#invert image dark background shows sometime better results\n",
        "invert = False\n",
        "#split data\n",
        "VAL_RATIO = 0.2\n",
        "TEST_RATIO = 0.2\n",
        "#random data from seed\n",
        "random.seed(42)"
      ]
    },
    {
      "cell_type": "code",
      "execution_count": null,
      "metadata": {
        "colab": {
          "base_uri": "https://localhost:8080/"
        },
        "id": "IZBcWo4AI4J5",
        "outputId": "94637a7e-eb66-43c7-b3e4-5d92b0e9ddbf"
      },
      "outputs": [
        {
          "name": "stdout",
          "output_type": "stream",
          "text": [
            "added 50 images from background\n",
            "added 50 images from capacitor\n",
            "added 50 images from diode\n",
            "added 50 images from led\n",
            "added 50 images from resistor\n",
            "['background', 'capacitor', 'diode', 'led', 'resistor']\n",
            "number of samples = 250\n"
          ]
        }
      ],
      "source": [
        "labels = []\n",
        "y_all = []\n",
        "X_all = []\n",
        "#find and load Dataset\n",
        "for label in os.listdir(dataset_path):\n",
        "  class_dir = os.path.join(dataset_path, label)\n",
        "  if os.path.isdir(class_dir) and label != \"ipynb_checkpoints\":\n",
        "    #add name of folder to our labels list\n",
        "    labels.append(label)\n",
        "    #go through each image in the folder\n",
        "    for i, file in enumerate(os.listdir(class_dir)):\n",
        "      #sip the jupyter noteook checkpoint folder that get sometime added\n",
        "      if file != \"ipynb_checkpoints\":\n",
        "        #pen image and convert to grayscale\n",
        "        file_path = os.path.join(class_dir, file)\n",
        "        img = PIL.Image.open(file_path).convert('L')\n",
        "        #convert image in numpy\n",
        "        img_array = np.asarray(img)\n",
        "        if invert:\n",
        "          img_array = 255 - img_array\n",
        "        X_all.append(img_array)\n",
        "        #add label to y array\n",
        "        y_all.append(label)\n",
        "    #show how much images we loaded\n",
        "    print('added', str(i+1),'images from', label)\n",
        "#calculate total no of samples\n",
        "num_sample = len(X_all)\n",
        "#sort the label by alphabatical order\n",
        "labels = sorted(labels) \n",
        "#print labels and no of samples\n",
        "print(labels)\n",
        "print('number of samples =',num_sample)"
      ]
    },
    {
      "cell_type": "code",
      "execution_count": null,
      "metadata": {
        "colab": {
          "base_uri": "https://localhost:8080/"
        },
        "id": "zwV9FG6_I74e",
        "outputId": "769560ed-8cfc-40df-850b-23e66f21f270"
      },
      "outputs": [
        {
          "name": "stdout",
          "output_type": "stream",
          "text": [
            "before ['background', 'background', 'background', 'background', 'background', 'background', 'background', 'background', 'background', 'background', 'background', 'background', 'background', 'background', 'background', 'background', 'background', 'background', 'background', 'background', 'background', 'background', 'background', 'background', 'background', 'background', 'background', 'background', 'background', 'background', 'background', 'background', 'background', 'background', 'background', 'background', 'background', 'background', 'background', 'background', 'background', 'background', 'background', 'background', 'background', 'background', 'background', 'background', 'background', 'background', 'capacitor', 'capacitor', 'capacitor', 'capacitor', 'capacitor', 'capacitor', 'capacitor', 'capacitor', 'capacitor', 'capacitor', 'capacitor', 'capacitor', 'capacitor', 'capacitor', 'capacitor', 'capacitor', 'capacitor', 'capacitor', 'capacitor', 'capacitor', 'capacitor', 'capacitor', 'capacitor', 'capacitor', 'capacitor', 'capacitor', 'capacitor', 'capacitor', 'capacitor', 'capacitor', 'capacitor', 'capacitor', 'capacitor', 'capacitor', 'capacitor', 'capacitor', 'capacitor', 'capacitor', 'capacitor', 'capacitor', 'capacitor', 'capacitor', 'capacitor', 'capacitor', 'capacitor', 'capacitor', 'capacitor', 'capacitor', 'capacitor', 'capacitor', 'diode', 'diode', 'diode', 'diode', 'diode', 'diode', 'diode', 'diode', 'diode', 'diode', 'diode', 'diode', 'diode', 'diode', 'diode', 'diode', 'diode', 'diode', 'diode', 'diode', 'diode', 'diode', 'diode', 'diode', 'diode', 'diode', 'diode', 'diode', 'diode', 'diode', 'diode', 'diode', 'diode', 'diode', 'diode', 'diode', 'diode', 'diode', 'diode', 'diode', 'diode', 'diode', 'diode', 'diode', 'diode', 'diode', 'diode', 'diode', 'diode', 'diode', 'led', 'led', 'led', 'led', 'led', 'led', 'led', 'led', 'led', 'led', 'led', 'led', 'led', 'led', 'led', 'led', 'led', 'led', 'led', 'led', 'led', 'led', 'led', 'led', 'led', 'led', 'led', 'led', 'led', 'led', 'led', 'led', 'led', 'led', 'led', 'led', 'led', 'led', 'led', 'led', 'led', 'led', 'led', 'led', 'led', 'led', 'led', 'led', 'led', 'led', 'resistor', 'resistor', 'resistor', 'resistor', 'resistor', 'resistor', 'resistor', 'resistor', 'resistor', 'resistor', 'resistor', 'resistor', 'resistor', 'resistor', 'resistor', 'resistor', 'resistor', 'resistor', 'resistor', 'resistor', 'resistor', 'resistor', 'resistor', 'resistor', 'resistor', 'resistor', 'resistor', 'resistor', 'resistor', 'resistor', 'resistor', 'resistor', 'resistor', 'resistor', 'resistor', 'resistor', 'resistor', 'resistor', 'resistor', 'resistor', 'resistor', 'resistor', 'resistor', 'resistor', 'resistor', 'resistor', 'resistor', 'resistor', 'resistor', 'resistor']\n",
            "after [0, 0, 0, 0, 0, 0, 0, 0, 0, 0, 0, 0, 0, 0, 0, 0, 0, 0, 0, 0, 0, 0, 0, 0, 0, 0, 0, 0, 0, 0, 0, 0, 0, 0, 0, 0, 0, 0, 0, 0, 0, 0, 0, 0, 0, 0, 0, 0, 0, 0, 1, 1, 1, 1, 1, 1, 1, 1, 1, 1, 1, 1, 1, 1, 1, 1, 1, 1, 1, 1, 1, 1, 1, 1, 1, 1, 1, 1, 1, 1, 1, 1, 1, 1, 1, 1, 1, 1, 1, 1, 1, 1, 1, 1, 1, 1, 1, 1, 1, 1, 2, 2, 2, 2, 2, 2, 2, 2, 2, 2, 2, 2, 2, 2, 2, 2, 2, 2, 2, 2, 2, 2, 2, 2, 2, 2, 2, 2, 2, 2, 2, 2, 2, 2, 2, 2, 2, 2, 2, 2, 2, 2, 2, 2, 2, 2, 2, 2, 2, 2, 3, 3, 3, 3, 3, 3, 3, 3, 3, 3, 3, 3, 3, 3, 3, 3, 3, 3, 3, 3, 3, 3, 3, 3, 3, 3, 3, 3, 3, 3, 3, 3, 3, 3, 3, 3, 3, 3, 3, 3, 3, 3, 3, 3, 3, 3, 3, 3, 3, 3, 4, 4, 4, 4, 4, 4, 4, 4, 4, 4, 4, 4, 4, 4, 4, 4, 4, 4, 4, 4, 4, 4, 4, 4, 4, 4, 4, 4, 4, 4, 4, 4, 4, 4, 4, 4, 4, 4, 4, 4, 4, 4, 4, 4, 4, 4, 4, 4, 4, 4]\n"
          ]
        }
      ],
      "source": [
        "#convert label to numbers\n",
        "print(\"before\", y_all)\n",
        "#convert each label to its index\n",
        "y_out = []\n",
        "for i, label in enumerate(y_all):\n",
        "  y_out.append(labels.index(label))\n",
        "y_all = y_out\n",
        "print(\"after\", y_all)"
      ]
    },
    {
      "cell_type": "code",
      "execution_count": null,
      "metadata": {
        "id": "mb1Xp1LAJCtL"
      },
      "outputs": [],
      "source": [
        "#shuffle data\n",
        "X_y = list(zip(X_all, y_all))\n",
        "random.shuffle(X_y)\n",
        "X_all,y_all = zip(*X_y)"
      ]
    },
    {
      "cell_type": "code",
      "execution_count": null,
      "metadata": {
        "colab": {
          "base_uri": "https://localhost:8080/"
        },
        "id": "NJutilvAJPlr",
        "outputId": "7c794282-aaa5-4bfd-9b18-7375e3ff501d"
      },
      "outputs": [
        {
          "name": "stdout",
          "output_type": "stream",
          "text": [
            "number of test samples =  50\n",
            "number of validation samples =  50\n",
            "number of train samples =  150\n"
          ]
        }
      ],
      "source": [
        "#number of train, test and validation samples\n",
        "num_test_samp = int(TEST_RATIO * num_sample)\n",
        "num_val_samp = int(VAL_RATIO * num_sample)\n",
        "#first test set\n",
        "X_test = X_all[:num_test_samp]\n",
        "y_test = y_all[:num_test_samp]\n",
        "#second validation set\n",
        "X_val = X_all[num_test_samp:(num_test_samp+num_val_samp)]\n",
        "y_val = y_all[num_test_samp:(num_test_samp+num_val_samp)]\n",
        "#training set\n",
        "X_train = X_all[(num_test_samp + num_val_samp):]\n",
        "y_train = y_all[(num_test_samp + num_val_samp):]\n",
        "#remember train sample\n",
        "num_train_samp = len(X_train)\n",
        "print(\"number of test samples = \", num_test_samp)\n",
        "print(\"number of validation samples = \", num_val_samp)\n",
        "print(\"number of train samples = \", num_train_samp)"
      ]
    },
    {
      "cell_type": "code",
      "execution_count": null,
      "metadata": {
        "colab": {
          "base_uri": "https://localhost:8080/",
          "height": 424
        },
        "id": "grVjeqjGJUGi",
        "outputId": "9cf6496b-b23c-4325-a463-723e89d23450"
      },
      "outputs": [
        {
          "name": "stdout",
          "output_type": "stream",
          "text": [
            "Label:3(led)\n",
            "[[161 161 164 ... 166 166 166]\n",
            " [161 161 164 ... 166 166 166]\n",
            " [161 161 164 ... 169 169 169]\n",
            " ...\n",
            " [122 122 122 ... 141 141 141]\n",
            " [121 121 121 ... 141 141 141]\n",
            " [122 122 122 ... 141 141 141]]\n"
          ]
        },
        {
          "data": {
            "text/plain": [
              "<matplotlib.image.AxesImage at 0x7fb9a4ce6e20>"
            ]
          },
          "execution_count": 90,
          "metadata": {},
          "output_type": "execute_result"
        },
        {
          "data": {
            "image/png": "[encoded data removed]",
            "text/plain": [
              "<Figure size 432x288 with 1 Axes>"
            ]
          },
          "metadata": {},
          "output_type": "display_data"
        }
      ],
      "source": [
        "#view training images after resizing\n",
        "idx = 55\n",
        "print(\"Label:\" + str(y_train[idx]) + \"(\" + labels[y_train[idx]] + \")\")\n",
        "print(X_train[idx])\n",
        "plt.imshow(X_train[idx], cmap='gray', vmin=0, vmax=255)"
      ]
    },
    {
      "cell_type": "code",
      "execution_count": null,
      "metadata": {
        "id": "7KH9LRuvJiKD"
      },
      "outputs": [],
      "source": [
        "#function to resize images\n",
        "def resize_images(images, width, height, anti_aliasing=True):\n",
        "  X_out = []\n",
        "  for i, img in enumerate(images):\n",
        "    X_out.append(resize(img, (width,height), anti_aliasing=anti_aliasing))\n",
        "  return X_out"
      ]
    },
    {
      "cell_type": "code",
      "execution_count": null,
      "metadata": {
        "id": "DfWjBBNRJjeQ"
      },
      "outputs": [],
      "source": [
        "#resize all images\n",
        "X_train = resize_images(X_train, TARGET_WIDTH, TARGET_HEIGHT)\n",
        "X_val = resize_images(X_val, TARGET_WIDTH, TARGET_HEIGHT)\n",
        "X_test = resize_images(X_test, TARGET_WIDTH, TARGET_HEIGHT)"
      ]
    },
    {
      "cell_type": "code",
      "execution_count": null,
      "metadata": {
        "colab": {
          "base_uri": "https://localhost:8080/",
          "height": 300
        },
        "id": "355_qbabJrha",
        "outputId": "43e22124-485f-461c-aa47-54fb37c1d369"
      },
      "outputs": [
        {
          "name": "stdout",
          "output_type": "stream",
          "text": [
            "Label:3(led)\n"
          ]
        },
        {
          "data": {
            "text/plain": [
              "<matplotlib.image.AxesImage at 0x7fb9a4bc98b0>"
            ]
          },
          "execution_count": 94,
          "metadata": {},
          "output_type": "execute_result"
        },
        {
          "data": {
            "image/png": "[encoded data removed]",
            "text/plain": [
              "<Figure size 432x288 with 1 Axes>"
            ]
          },
          "metadata": {},
          "output_type": "display_data"
        }
      ],
      "source": [
        "#view training images after resizing\n",
        "idx = 55\n",
        "print(\"Label:\" + str(y_train[idx]) + \"(\" + labels[y_train[idx]] + \")\")\n",
        "#print(X_train[idx])\n",
        "plt.imshow(X_train[idx], cmap='gray', vmin=0, vmax=1)"
      ]
    },
    {
      "cell_type": "code",
      "execution_count": null,
      "metadata": {
        "colab": {
          "base_uri": "https://localhost:8080/"
        },
        "id": "q3abEI-oJyHV",
        "outputId": "90d0c76a-e87d-4cbe-f9a0-cba76c30918e"
      },
      "outputs": [
        {
          "name": "stdout",
          "output_type": "stream",
          "text": [
            "test x samples =  [[[0.55378151 0.55294118 0.55294118 ... 0.57254902 0.57254902 0.57254902]\n",
            "  [0.55294118 0.55294118 0.55546218 ... 0.57647059 0.57254902 0.57254902]\n",
            "  [0.56134454 0.56470588 0.56862745 ... 0.57254902 0.57254902 0.57232893]\n",
            "  ...\n",
            "  [0.56862745 0.56862745 0.56862745 ... 0.57647059 0.57647059 0.57647059]\n",
            "  [0.56862745 0.56862745 0.56862745 ... 0.58169268 0.58571429 0.58823529]\n",
            "  [0.56862745 0.56862745 0.56862745 ... 0.58403361 0.58769508 0.57815126]]\n",
            "\n",
            " [[0.61176471 0.61176471 0.61568627 ... 0.61960784 0.62436975 0.62436975]\n",
            "  [0.61428571 0.61428571 0.61568627 ... 0.62605042 0.63137255 0.63137255]\n",
            "  [0.61568627 0.61876751 0.62406963 ... 0.63137255 0.63137255 0.63137255]\n",
            "  ...\n",
            "  [0.41344538 0.46152461 0.49133653 ... 0.64313725 0.64313725 0.64313725]\n",
            "  [0.51314526 0.52016807 0.52997199 ... 0.64173669 0.64313725 0.6397559 ]\n",
            "  [0.51764706 0.51818727 0.52997199 ... 0.63613445 0.63613445 0.63613445]]\n",
            "\n",
            " [[0.63529412 0.64313725 0.64705882 ... 0.68627451 0.68487395 0.68543417]\n",
            "  [0.63529412 0.63831533 0.64313725 ... 0.6837535  0.6832533  0.67983193]\n",
            "  [0.63221289 0.63781513 0.64313725 ... 0.67843137 0.67843137 0.67843137]\n",
            "  ...\n",
            "  [0.46694678 0.46442577 0.46694678 ... 0.50616246 0.50756303 0.51708683]\n",
            "  [0.44565826 0.44565826 0.44565826 ... 0.49131653 0.49361745 0.49663866]\n",
            "  [0.43613445 0.43613445 0.43635454 ... 0.47142857 0.47535014 0.47927171]]\n",
            "\n",
            " ...\n",
            "\n",
            " [[0.58823529 0.59859944 0.6        ... 0.61568627 0.61176471 0.60784314]\n",
            "  [0.58767507 0.59517807 0.6        ... 0.61596639 0.61428571 0.61176471]\n",
            "  [0.6        0.6        0.60028011 ... 0.61568627 0.61932773 0.61568627]\n",
            "  ...\n",
            "  [0.54901961 0.54919968 0.54929972 ... 0.57647059 0.57647059 0.57647059]\n",
            "  [0.54117647 0.54117647 0.54117647 ... 0.57254902 0.57254902 0.57254902]\n",
            "  [0.53417367 0.53615446 0.53831533 ... 0.56554622 0.56554622 0.56862745]]\n",
            "\n",
            " [[0.55294118 0.55294118 0.55294118 ... 0.57260904 0.57254902 0.57254902]\n",
            "  [0.55294118 0.55294118 0.55938375 ... 0.57647059 0.57507003 0.57254902]\n",
            "  [0.55776311 0.56732693 0.56862745 ... 0.58431373 0.57665066 0.57647059]\n",
            "  ...\n",
            "  [0.57647059 0.57647059 0.58039216 ... 0.60784314 0.60392157 0.60084034]\n",
            "  [0.57647059 0.57989196 0.58431373 ... 0.60392157 0.60302121 0.6       ]\n",
            "  [0.57647059 0.57647059 0.57647059 ... 0.60084034 0.6        0.6       ]]\n",
            "\n",
            " [[0.57254902 0.57254902 0.57647059 ... 0.6        0.6        0.6       ]\n",
            "  [0.57254902 0.57507003 0.57909164 ... 0.6        0.6        0.6       ]\n",
            "  [0.57647059 0.57665066 0.58039216 ... 0.60028011 0.59607843 0.59215686]\n",
            "  ...\n",
            "  [0.54901961 0.54901961 0.54957983 ... 0.63137255 0.62212885 0.62633053]\n",
            "  [0.5347539  0.54067627 0.54135654 ... 0.63137255 0.63137255 0.62436975]\n",
            "  [0.52156863 0.53223289 0.54117647 ... 0.63137255 0.62689076 0.61586635]]]\n",
            "test y samples =  [0 1 3 2 2 3 0 3 3 2 0 1 0 1 4 1 2 0 2 2 4 4 1 0 2 4 1 0 3 4 2 1 1 3 4 3 1\n",
            " 1 0 3 2 0 1 1 4 0 2 2 0 4]\n",
            "train x samples =  [[[0.60392157 0.60392157 0.60392157 ... 0.61960784 0.61652661 0.61960784]\n",
            "  [0.60392157 0.60784314 0.60784314 ... 0.62997199 0.62997199 0.63137255]\n",
            "  [0.60784314 0.60784314 0.61176471 ... 0.63137255 0.62997199 0.61932773]\n",
            "  ...\n",
            "  [0.51764706 0.52184874 0.52577031 ... 0.55322129 0.54929972 0.54929972]\n",
            "  [0.50980392 0.50980392 0.50998399 ... 0.53333333 0.53977591 0.54117647]\n",
            "  [0.50588235 0.50588235 0.49909964 ... 0.52555022 0.52270908 0.52633053]]\n",
            "\n",
            " [[0.55294118 0.55294118 0.55322129 ... 0.56862745 0.56862745 0.56862745]\n",
            "  [0.55294118 0.55294118 0.56228491 ... 0.56890756 0.56862745 0.56862745]\n",
            "  [0.55406162 0.56732693 0.56862745 ... 0.57254902 0.56862745 0.56862745]\n",
            "  ...\n",
            "  [0.56940776 0.57254902 0.57254902 ... 0.59215686 0.58823529 0.58823529]\n",
            "  [0.56946779 0.57254902 0.57254902 ... 0.58823529 0.58431373 0.58431373]\n",
            "  [0.56862745 0.57114846 0.57254902 ... 0.58823529 0.58039216 0.57647059]]\n",
            "\n",
            " [[0.59691877 0.6        0.6        ... 0.61568627 0.61176471 0.61176471]\n",
            "  [0.60054022 0.60252101 0.60392157 ... 0.61568627 0.61568627 0.61568627]\n",
            "  [0.60392157 0.60392157 0.60394158 ... 0.62408964 0.61568627 0.61646659]\n",
            "  ...\n",
            "  [0.57254902 0.57517007 0.57703081 ... 0.63529412 0.62615046 0.62380952]\n",
            "  [0.56946779 0.57254902 0.57647059 ... 0.63529412 0.62492997 0.61848739]\n",
            "  [0.56946779 0.57254902 0.57254902 ... 0.63529412 0.63389356 0.63137255]]\n",
            "\n",
            " ...\n",
            "\n",
            " [[0.55612245 0.56752701 0.56470588 ... 0.57254902 0.57114846 0.56862745]\n",
            "  [0.56664666 0.56862745 0.56862745 ... 0.57254902 0.57114846 0.56862745]\n",
            "  [0.55904362 0.56862745 0.56862745 ... 0.57254902 0.57254902 0.57254902]\n",
            "  ...\n",
            "  [0.56862745 0.56862745 0.57254902 ... 0.57647059 0.57647059 0.57647059]\n",
            "  [0.56862745 0.56862745 0.56862745 ... 0.58029212 0.57647059 0.57647059]\n",
            "  [0.56862745 0.56862745 0.56862745 ... 0.58039216 0.57537015 0.57272909]]\n",
            "\n",
            " [[0.6        0.6        0.60084034 ... 0.61568627 0.61568627 0.61568627]\n",
            "  [0.60252101 0.60392157 0.60392157 ... 0.61568627 0.61658663 0.62212885]\n",
            "  [0.60392157 0.60410164 0.60420168 ... 0.61988796 0.61568627 0.61568627]\n",
            "  ...\n",
            "  [0.51372549 0.51372549 0.51008403 ... 0.51766707 0.52194878 0.52577031]\n",
            "  [0.50448179 0.50358143 0.49915966 ... 0.50038015 0.50448179 0.5070028 ]\n",
            "  [0.49103641 0.48543417 0.48011204 ... 0.49019608 0.49103641 0.49103641]]\n",
            "\n",
            " [[0.55462185 0.56862745 0.57254902 ... 0.58129252 0.58039216 0.57647059]\n",
            "  [0.56862745 0.56862745 0.57254902 ... 0.59635854 0.58039216 0.57731092]\n",
            "  [0.56862745 0.56862745 0.57254902 ... 0.58459384 0.58057223 0.58039216]\n",
            "  ...\n",
            "  [0.57647059 0.57647059 0.58039216 ... 0.60758303 0.60392157 0.60392157]\n",
            "  [0.57647059 0.57647059 0.58039216 ... 0.60784314 0.60554222 0.60392157]\n",
            "  [0.57647059 0.57647059 0.57647059 ... 0.60812325 0.60392157 0.60392157]]]\n",
            "train y samples =  [2 2 4 4 4 0 2 3 2 0 4 2 1 4 4 4 4 2 0 2 2 4 3 3 2 1 4 4 3 2 2 2 1 4 3 0 3\n",
            " 2 2 3 2 1 0 3 2 1 4 3 0 1 4 2 1 3 2 3 4 2 0 3 0 1 1 1 1 0 1 3 2 4 3 0 4 3\n",
            " 1 1 3 3 0 0 2 1 3 3 1 2 0 1 0 2 2 3 0 1 4 1 1 0 1 4 4 1 3 4 0 4 1 4 3 0 4\n",
            " 3 0 4 1 3 2 1 2 4 3 3 3 1 2 4 3 2 1 1 0 0 0 2 3 0 2 4 4 3 0 3 0 1 1 1 3 0\n",
            " 0 3]\n",
            "validation x samples =  [[[0.57254902 0.57647059 0.57731092 ... 0.58823529 0.58515406 0.58515406]\n",
            "  [0.57647059 0.57647059 0.58039216 ... 0.59215686 0.59377751 0.59215686]\n",
            "  [0.57647059 0.57665066 0.58039216 ... 0.59189676 0.59197679 0.59215686]\n",
            "  ...\n",
            "  [0.6        0.60028011 0.60054022 ... 0.61176471 0.60784314 0.60784314]\n",
            "  [0.6        0.6        0.60018007 ... 0.61176471 0.60784314 0.60784314]\n",
            "  [0.6        0.6        0.6        ... 0.60890356 0.60838335 0.6047619 ]]\n",
            "\n",
            " [[0.6        0.6        0.59613846 ... 0.61568627 0.60644258 0.6070028 ]\n",
            "  [0.6        0.60252101 0.60262105 ... 0.61316527 0.61036415 0.60392157]\n",
            "  [0.60498199 0.60784314 0.60838335 ... 0.61988796 0.61988796 0.60890356]\n",
            "  ...\n",
            "  [0.57681072 0.58459384 0.58851541 ... 0.63137255 0.62745098 0.62745098]\n",
            "  [0.56946779 0.57507003 0.57647059 ... 0.62773109 0.62605042 0.62242897]\n",
            "  [0.56880752 0.57254902 0.57338936 ... 0.62745098 0.62605042 0.62352941]]\n",
            "\n",
            " [[0.62745098 0.62745098 0.63137255 ... 0.68313325 0.67843137 0.67843137]\n",
            "  [0.62547019 0.62745098 0.63137255 ... 0.68627451 0.67843137 0.67843137]\n",
            "  [0.61938776 0.63137255 0.63137255 ... 0.68627451 0.67843137 0.67843137]\n",
            "  ...\n",
            "  [0.45630252 0.46946779 0.47478992 ... 0.63137255 0.63137255 0.62044818]\n",
            "  [0.4464986  0.45854342 0.46554622 ... 0.61446579 0.61428571 0.61876751]\n",
            "  [0.43305322 0.44565826 0.45182073 ... 0.61176471 0.6092437  0.61260504]]\n",
            "\n",
            " ...\n",
            "\n",
            " [[0.6        0.6        0.60084034 ... 0.61568627 0.61568627 0.61568627]\n",
            "  [0.6        0.60342137 0.60392157 ... 0.61830732 0.61568627 0.61568627]\n",
            "  [0.60084034 0.60392157 0.60420168 ... 0.6279912  0.61820728 0.61568627]\n",
            "  ...\n",
            "  [0.52583033 0.5232493  0.52184874 ... 0.55322129 0.55322129 0.55322129]\n",
            "  [0.51090436 0.50980392 0.50980392 ... 0.55304122 0.55042017 0.54703882]\n",
            "  [0.51288515 0.50588235 0.50980392 ... 0.54593838 0.53809524 0.53809524]]\n",
            "\n",
            " [[0.55770308 0.56162465 0.56190476 ... 0.58823529 0.58823529 0.58823529]\n",
            "  [0.56722689 0.56862745 0.56890756 ... 0.59215686 0.59215686 0.59215686]\n",
            "  [0.56862745 0.56890756 0.57254902 ... 0.59217687 0.59215686 0.59215686]\n",
            "  ...\n",
            "  [0.54145658 0.54537815 0.54955982 ... 0.58823529 0.58823529 0.58717487]\n",
            "  [0.53387355 0.53977591 0.54117647 ... 0.57647059 0.5789916  0.58291317]\n",
            "  [0.52959184 0.53333333 0.53417367 ... 0.57254902 0.57338936 0.57338936]]\n",
            "\n",
            " [[0.55294118 0.55294118 0.56078431 ... 0.58823529 0.58321329 0.58673469]\n",
            "  [0.55740296 0.56582633 0.56488595 ... 0.59085634 0.58823529 0.57841136]\n",
            "  [0.56576631 0.56862745 0.56864746 ... 0.59215686 0.58711485 0.57731092]\n",
            "  ...\n",
            "  [0.57647059 0.57647059 0.58041216 ... 0.59607843 0.59607843 0.59607843]\n",
            "  [0.5744898  0.57647059 0.57647059 ... 0.59215686 0.59467787 0.59607843]\n",
            "  [0.57647059 0.57647059 0.57647059 ... 0.59215686 0.59215686 0.59215686]]]\n",
            "validation y samples =  [2 2 3 2 0 1 4 1 4 0 1 2 2 2 4 0 4 0 4 0 3 3 4 2 3 4 0 4 3 1 1 0 3 0 4 4 1\n",
            " 0 0 3 3 4 0 2 3 1 0 2 4 4]\n"
          ]
        }
      ],
      "source": [
        "#test set\n",
        "X_test = np.asarray(X_test)\n",
        "y_test = np.asarray(y_test)\n",
        "#validation set\n",
        "X_val = np.asarray(X_val)\n",
        "y_val = np.asarray(y_val)\n",
        "#training set\n",
        "X_train = np.asarray(X_train)\n",
        "y_train = np.asarray(y_train)\n",
        "#display\n",
        "\n",
        "print(\"test x samples = \", X_test)\n",
        "print(\"test y samples = \", y_test)\n",
        "print(\"train x samples = \", X_train)\n",
        "print(\"train y samples = \", y_train)\n",
        "print(\"validation x samples = \", X_val)\n",
        "print(\"validation y samples = \", y_val)"
      ]
    },
    {
      "cell_type": "code",
      "execution_count": null,
      "metadata": {
        "id": "1rP4amohJ8S0"
      },
      "outputs": [],
      "source": [
        "#Flatten to 1D array (DNN required 1D array)\n",
        "len_vect = TARGET_WIDTH * TARGET_WIDTH\n",
        "#resize all images\n",
        "X_train = X_train.reshape(num_train_samp, len_vect)\n",
        "X_val = X_val.reshape(num_val_samp, len_vect)\n",
        "X_test = X_test.reshape(num_test_samp, len_vect)\n",
        "input_shape = (X_train.shape[1])\n",
        "print(\"x train\",X_train.shape)\n",
        "print(\"y train\",y_train.shape)\n",
        "print(\"x test\",X_test.shape)\n",
        "print(\"y test\",y_test.shape)\n",
        "print(\"x val\",X_val.shape)\n",
        "print(\"y val\",y_val.shape)\n",
        "print(\"input_tensor_shape \", input_shape)"
      ]
    },
    {
      "cell_type": "code",
      "execution_count": null,
      "metadata": {
        "colab": {
          "base_uri": "https://localhost:8080/"
        },
        "id": "LoZrkj_UKDEz",
        "outputId": "bf2083cd-273e-453c-d9de-2aaa0491ac4a"
      },
      "outputs": [
        {
          "name": "stdout",
          "output_type": "stream",
          "text": [
            "Y train (150, 5)\n",
            "Y test (50, 5)\n",
            "Y val (50, 5)\n",
            "label:2| one-hot [0. 0. 1. 0. 0.]\n",
            "label:2| one-hot [0. 0. 1. 0. 0.]\n",
            "label:4| one-hot [0. 0. 0. 0. 1.]\n",
            "label:4| one-hot [0. 0. 0. 0. 1.]\n",
            "label:4| one-hot [0. 0. 0. 0. 1.]\n",
            "label:0| one-hot [1. 0. 0. 0. 0.]\n",
            "label:2| one-hot [0. 0. 1. 0. 0.]\n",
            "label:3| one-hot [0. 0. 0. 1. 0.]\n",
            "label:2| one-hot [0. 0. 1. 0. 0.]\n",
            "label:0| one-hot [1. 0. 0. 0. 0.]\n"
          ]
        }
      ],
      "source": [
        "#one hot encoding\n",
        "#get no of classes \n",
        "num_classes = len(labels)\n",
        "#use keras to create one hot encoding\n",
        "Y_train = np_utils.to_categorical(y_train, num_classes)\n",
        "Y_test = np_utils.to_categorical(y_test, num_classes)\n",
        "Y_val = np_utils.to_categorical(y_val, num_classes) \n",
        "#print out shape\n",
        "print(\"Y train\", Y_train.shape)\n",
        "print(\"Y test\", Y_test.shape)\n",
        "print(\"Y val\", Y_val.shape)\n",
        "#print out few example\n",
        "for i in range(10):\n",
        "  print(\"label:\" + str(y_train[i]) + \"| one-hot\", Y_train[i])"
      ]
    },
    {
      "cell_type": "code",
      "execution_count": null,
      "metadata": {
        "colab": {
          "background_save": true,
          "base_uri": "https://localhost:8080/",
          "height": 380
        },
        "id": "t_dzerHiKL3t",
        "outputId": "88429425-784e-4633-db8e-e1cd766d62a3"
      },
      "outputs": [
        {
          "ename": "TypeError",
          "evalue": "ignored",
          "output_type": "error",
          "traceback": [
            "\u001b[0;31m---------------------------------------------------------------------------\u001b[0m",
            "\u001b[0;31mTypeError\u001b[0m                                 Traceback (most recent call last)",
            "\u001b[0;32m<ipython-input-109-9ba2fd5518e2>\u001b[0m in \u001b[0;36m<module>\u001b[0;34m\u001b[0m\n\u001b[1;32m      2\u001b[0m \u001b[0mmodel\u001b[0m \u001b[0;34m=\u001b[0m \u001b[0mSequential\u001b[0m\u001b[0;34m(\u001b[0m\u001b[0;34m)\u001b[0m\u001b[0;34m\u001b[0m\u001b[0;34m\u001b[0m\u001b[0m\n\u001b[1;32m      3\u001b[0m \u001b[0;31m#first layer fully connected with relu activation\u001b[0m\u001b[0;34m\u001b[0m\u001b[0;34m\u001b[0m\u001b[0;34m\u001b[0m\u001b[0m\n\u001b[0;32m----> 4\u001b[0;31m \u001b[0mmodel\u001b[0m\u001b[0;34m.\u001b[0m\u001b[0madd\u001b[0m\u001b[0;34m(\u001b[0m\u001b[0mDense\u001b[0m\u001b[0;34m(\u001b[0m\u001b[0;36m64\u001b[0m\u001b[0;34m)\u001b[0m\u001b[0;34m,\u001b[0m \u001b[0minput_shape\u001b[0m\u001b[0;34m=\u001b[0m\u001b[0minput_shape\u001b[0m\u001b[0;34m)\u001b[0m\u001b[0;34m\u001b[0m\u001b[0;34m\u001b[0m\u001b[0m\n\u001b[0m\u001b[1;32m      5\u001b[0m \u001b[0mmodel\u001b[0m\u001b[0;34m.\u001b[0m\u001b[0madd\u001b[0m\u001b[0;34m(\u001b[0m\u001b[0mActivation\u001b[0m\u001b[0;34m(\u001b[0m\u001b[0;34m'relu'\u001b[0m\u001b[0;34m)\u001b[0m\u001b[0;34m)\u001b[0m\u001b[0;34m\u001b[0m\u001b[0;34m\u001b[0m\u001b[0m\n\u001b[1;32m      6\u001b[0m \u001b[0mmodel\u001b[0m\u001b[0;34m.\u001b[0m\u001b[0madd\u001b[0m\u001b[0;34m(\u001b[0m\u001b[0mDropout\u001b[0m\u001b[0;34m(\u001b[0m\u001b[0;36m0.25\u001b[0m\u001b[0;34m)\u001b[0m\u001b[0;34m)\u001b[0m\u001b[0;34m\u001b[0m\u001b[0;34m\u001b[0m\u001b[0m\n",
            "\u001b[0;32m/usr/local/lib/python3.8/dist-packages/tensorflow/python/training/tracking/base.py\u001b[0m in \u001b[0;36m_method_wrapper\u001b[0;34m(self, *args, **kwargs)\u001b[0m\n\u001b[1;32m    585\u001b[0m     \u001b[0mself\u001b[0m\u001b[0;34m.\u001b[0m\u001b[0m_self_setattr_tracking\u001b[0m \u001b[0;34m=\u001b[0m \u001b[0;32mFalse\u001b[0m  \u001b[0;31m# pylint: disable=protected-access\u001b[0m\u001b[0;34m\u001b[0m\u001b[0;34m\u001b[0m\u001b[0m\n\u001b[1;32m    586\u001b[0m     \u001b[0;32mtry\u001b[0m\u001b[0;34m:\u001b[0m\u001b[0;34m\u001b[0m\u001b[0;34m\u001b[0m\u001b[0m\n\u001b[0;32m--> 587\u001b[0;31m       \u001b[0mresult\u001b[0m \u001b[0;34m=\u001b[0m \u001b[0mmethod\u001b[0m\u001b[0;34m(\u001b[0m\u001b[0mself\u001b[0m\u001b[0;34m,\u001b[0m \u001b[0;34m*\u001b[0m\u001b[0margs\u001b[0m\u001b[0;34m,\u001b[0m \u001b[0;34m**\u001b[0m\u001b[0mkwargs\u001b[0m\u001b[0;34m)\u001b[0m\u001b[0;34m\u001b[0m\u001b[0;34m\u001b[0m\u001b[0m\n\u001b[0m\u001b[1;32m    588\u001b[0m     \u001b[0;32mfinally\u001b[0m\u001b[0;34m:\u001b[0m\u001b[0;34m\u001b[0m\u001b[0;34m\u001b[0m\u001b[0m\n\u001b[1;32m    589\u001b[0m       \u001b[0mself\u001b[0m\u001b[0;34m.\u001b[0m\u001b[0m_self_setattr_tracking\u001b[0m \u001b[0;34m=\u001b[0m \u001b[0mprevious_value\u001b[0m  \u001b[0;31m# pylint: disable=protected-access\u001b[0m\u001b[0;34m\u001b[0m\u001b[0;34m\u001b[0m\u001b[0m\n",
            "\u001b[0;32m/usr/local/lib/python3.8/dist-packages/keras/utils/traceback_utils.py\u001b[0m in \u001b[0;36merror_handler\u001b[0;34m(*args, **kwargs)\u001b[0m\n\u001b[1;32m     65\u001b[0m     \u001b[0;32mexcept\u001b[0m \u001b[0mException\u001b[0m \u001b[0;32mas\u001b[0m \u001b[0me\u001b[0m\u001b[0;34m:\u001b[0m  \u001b[0;31m# pylint: disable=broad-except\u001b[0m\u001b[0;34m\u001b[0m\u001b[0;34m\u001b[0m\u001b[0m\n\u001b[1;32m     66\u001b[0m       \u001b[0mfiltered_tb\u001b[0m \u001b[0;34m=\u001b[0m \u001b[0m_process_traceback_frames\u001b[0m\u001b[0;34m(\u001b[0m\u001b[0me\u001b[0m\u001b[0;34m.\u001b[0m\u001b[0m__traceback__\u001b[0m\u001b[0;34m)\u001b[0m\u001b[0;34m\u001b[0m\u001b[0;34m\u001b[0m\u001b[0m\n\u001b[0;32m---> 67\u001b[0;31m       \u001b[0;32mraise\u001b[0m \u001b[0me\u001b[0m\u001b[0;34m.\u001b[0m\u001b[0mwith_traceback\u001b[0m\u001b[0;34m(\u001b[0m\u001b[0mfiltered_tb\u001b[0m\u001b[0;34m)\u001b[0m \u001b[0;32mfrom\u001b[0m \u001b[0;32mNone\u001b[0m\u001b[0;34m\u001b[0m\u001b[0;34m\u001b[0m\u001b[0m\n\u001b[0m\u001b[1;32m     68\u001b[0m     \u001b[0;32mfinally\u001b[0m\u001b[0;34m:\u001b[0m\u001b[0;34m\u001b[0m\u001b[0;34m\u001b[0m\u001b[0m\n\u001b[1;32m     69\u001b[0m       \u001b[0;32mdel\u001b[0m \u001b[0mfiltered_tb\u001b[0m\u001b[0;34m\u001b[0m\u001b[0;34m\u001b[0m\u001b[0m\n",
            "\u001b[0;32m/usr/local/lib/python3.8/dist-packages/keras/utils/traceback_utils.py\u001b[0m in \u001b[0;36merror_handler\u001b[0;34m(*args, **kwargs)\u001b[0m\n\u001b[1;32m     62\u001b[0m     \u001b[0mfiltered_tb\u001b[0m \u001b[0;34m=\u001b[0m \u001b[0;32mNone\u001b[0m\u001b[0;34m\u001b[0m\u001b[0;34m\u001b[0m\u001b[0m\n\u001b[1;32m     63\u001b[0m     \u001b[0;32mtry\u001b[0m\u001b[0;34m:\u001b[0m\u001b[0;34m\u001b[0m\u001b[0;34m\u001b[0m\u001b[0m\n\u001b[0;32m---> 64\u001b[0;31m       \u001b[0;32mreturn\u001b[0m \u001b[0mfn\u001b[0m\u001b[0;34m(\u001b[0m\u001b[0;34m*\u001b[0m\u001b[0margs\u001b[0m\u001b[0;34m,\u001b[0m \u001b[0;34m**\u001b[0m\u001b[0mkwargs\u001b[0m\u001b[0;34m)\u001b[0m\u001b[0;34m\u001b[0m\u001b[0;34m\u001b[0m\u001b[0m\n\u001b[0m\u001b[1;32m     65\u001b[0m     \u001b[0;32mexcept\u001b[0m \u001b[0mException\u001b[0m \u001b[0;32mas\u001b[0m \u001b[0me\u001b[0m\u001b[0;34m:\u001b[0m  \u001b[0;31m# pylint: disable=broad-except\u001b[0m\u001b[0;34m\u001b[0m\u001b[0;34m\u001b[0m\u001b[0m\n\u001b[1;32m     66\u001b[0m       \u001b[0mfiltered_tb\u001b[0m \u001b[0;34m=\u001b[0m \u001b[0m_process_traceback_frames\u001b[0m\u001b[0;34m(\u001b[0m\u001b[0me\u001b[0m\u001b[0;34m.\u001b[0m\u001b[0m__traceback__\u001b[0m\u001b[0;34m)\u001b[0m\u001b[0;34m\u001b[0m\u001b[0;34m\u001b[0m\u001b[0m\n",
            "\u001b[0;31mTypeError\u001b[0m: add() got an unexpected keyword argument 'input_shape'"
          ]
        }
      ],
      "source": [
        "#sequential model\n",
        "model = Sequential()\n",
        "#first layer fully connected with relu activation\n",
        "model.add(Dense(64), input_shape=input_shape)\n",
        "model.add(Activation('relu'))\n",
        "model.add(Dropout(0.25))\n",
        "#second layer fully connected with relu activation\n",
        "model.add(Dense(64))\n",
        "model.add(Activation('relu'))\n",
        "model.add(Dropout(0.25))\n",
        "#third layer : 5 nodes connected with softmax activation\n",
        "model.add(Dense(num_classes))\n",
        "model.add(Activation('softmax'))\n",
        "#configure model for trainning\n",
        "model.compile(loss = 'categorical_crossentropy', optimizer = 'adam', metrics = ['acc'])\n",
        "input_shape=(1,28,28)\n",
        "model.build(input_shape)\n",
        "print(model.summary())"
      ]
    },
    {
      "cell_type": "code",
      "execution_count": null,
      "metadata": {
        "colab": {
          "base_uri": "https://localhost:8080/",
          "height": 782
        },
        "id": "qkSeskYsKVrv",
        "outputId": "3d8cadc6-d56f-4120-c856-d61e8c10c190"
      },
      "outputs": [
        {
          "name": "stdout",
          "output_type": "stream",
          "text": [
            "Epoch 1/200\n"
          ]
        },
        {
          "name": "stderr",
          "output_type": "stream",
          "text": [
            "WARNING:tensorflow:Model was constructed with shape (None, 28, 28) for input KerasTensor(type_spec=TensorSpec(shape=(None, 28, 28), dtype=tf.float32, name='dense_3_input'), name='dense_3_input', description=\"created by layer 'dense_3_input'\"), but it was called on an input with incompatible shape (None, 784).\n"
          ]
        },
        {
          "ename": "ValueError",
          "evalue": "ignored",
          "output_type": "error",
          "traceback": [
            "\u001b[0;31m---------------------------------------------------------------------------\u001b[0m",
            "\u001b[0;31mValueError\u001b[0m                                Traceback (most recent call last)",
            "\u001b[0;32m<ipython-input-100-600f22e03caf>\u001b[0m in \u001b[0;36m<module>\u001b[0;34m\u001b[0m\n\u001b[0;32m----> 1\u001b[0;31m \u001b[0mhistory\u001b[0m \u001b[0;34m=\u001b[0m \u001b[0mmodel\u001b[0m\u001b[0;34m.\u001b[0m\u001b[0mfit\u001b[0m\u001b[0;34m(\u001b[0m\u001b[0mX_train\u001b[0m\u001b[0;34m,\u001b[0m \u001b[0my_train\u001b[0m\u001b[0;34m,\u001b[0m \u001b[0mbatch_size\u001b[0m\u001b[0;34m=\u001b[0m\u001b[0;36m32\u001b[0m\u001b[0;34m,\u001b[0m \u001b[0mepochs\u001b[0m\u001b[0;34m=\u001b[0m\u001b[0;36m200\u001b[0m\u001b[0;34m,\u001b[0m \u001b[0mverbose\u001b[0m\u001b[0;34m=\u001b[0m\u001b[0;36m1\u001b[0m\u001b[0;34m,\u001b[0m \u001b[0mvalidation_data\u001b[0m\u001b[0;34m=\u001b[0m\u001b[0;34m(\u001b[0m\u001b[0mX_val\u001b[0m\u001b[0;34m,\u001b[0m \u001b[0my_val\u001b[0m\u001b[0;34m)\u001b[0m\u001b[0;34m)\u001b[0m\u001b[0;34m\u001b[0m\u001b[0;34m\u001b[0m\u001b[0m\n\u001b[0m",
            "\u001b[0;32m/usr/local/lib/python3.8/dist-packages/keras/utils/traceback_utils.py\u001b[0m in \u001b[0;36merror_handler\u001b[0;34m(*args, **kwargs)\u001b[0m\n\u001b[1;32m     65\u001b[0m     \u001b[0;32mexcept\u001b[0m \u001b[0mException\u001b[0m \u001b[0;32mas\u001b[0m \u001b[0me\u001b[0m\u001b[0;34m:\u001b[0m  \u001b[0;31m# pylint: disable=broad-except\u001b[0m\u001b[0;34m\u001b[0m\u001b[0;34m\u001b[0m\u001b[0m\n\u001b[1;32m     66\u001b[0m       \u001b[0mfiltered_tb\u001b[0m \u001b[0;34m=\u001b[0m \u001b[0m_process_traceback_frames\u001b[0m\u001b[0;34m(\u001b[0m\u001b[0me\u001b[0m\u001b[0;34m.\u001b[0m\u001b[0m__traceback__\u001b[0m\u001b[0;34m)\u001b[0m\u001b[0;34m\u001b[0m\u001b[0;34m\u001b[0m\u001b[0m\n\u001b[0;32m---> 67\u001b[0;31m       \u001b[0;32mraise\u001b[0m \u001b[0me\u001b[0m\u001b[0;34m.\u001b[0m\u001b[0mwith_traceback\u001b[0m\u001b[0;34m(\u001b[0m\u001b[0mfiltered_tb\u001b[0m\u001b[0;34m)\u001b[0m \u001b[0;32mfrom\u001b[0m \u001b[0;32mNone\u001b[0m\u001b[0;34m\u001b[0m\u001b[0;34m\u001b[0m\u001b[0m\n\u001b[0m\u001b[1;32m     68\u001b[0m     \u001b[0;32mfinally\u001b[0m\u001b[0;34m:\u001b[0m\u001b[0;34m\u001b[0m\u001b[0;34m\u001b[0m\u001b[0m\n\u001b[1;32m     69\u001b[0m       \u001b[0;32mdel\u001b[0m \u001b[0mfiltered_tb\u001b[0m\u001b[0;34m\u001b[0m\u001b[0;34m\u001b[0m\u001b[0m\n",
            "\u001b[0;32m/usr/local/lib/python3.8/dist-packages/keras/engine/training.py\u001b[0m in \u001b[0;36mtf__train_function\u001b[0;34m(iterator)\u001b[0m\n\u001b[1;32m     13\u001b[0m                 \u001b[0;32mtry\u001b[0m\u001b[0;34m:\u001b[0m\u001b[0;34m\u001b[0m\u001b[0;34m\u001b[0m\u001b[0m\n\u001b[1;32m     14\u001b[0m                     \u001b[0mdo_return\u001b[0m \u001b[0;34m=\u001b[0m \u001b[0;32mTrue\u001b[0m\u001b[0;34m\u001b[0m\u001b[0;34m\u001b[0m\u001b[0m\n\u001b[0;32m---> 15\u001b[0;31m                     \u001b[0mretval_\u001b[0m \u001b[0;34m=\u001b[0m \u001b[0mag__\u001b[0m\u001b[0;34m.\u001b[0m\u001b[0mconverted_call\u001b[0m\u001b[0;34m(\u001b[0m\u001b[0mag__\u001b[0m\u001b[0;34m.\u001b[0m\u001b[0mld\u001b[0m\u001b[0;34m(\u001b[0m\u001b[0mstep_function\u001b[0m\u001b[0;34m)\u001b[0m\u001b[0;34m,\u001b[0m \u001b[0;34m(\u001b[0m\u001b[0mag__\u001b[0m\u001b[0;34m.\u001b[0m\u001b[0mld\u001b[0m\u001b[0;34m(\u001b[0m\u001b[0mself\u001b[0m\u001b[0;34m)\u001b[0m\u001b[0;34m,\u001b[0m \u001b[0mag__\u001b[0m\u001b[0;34m.\u001b[0m\u001b[0mld\u001b[0m\u001b[0;34m(\u001b[0m\u001b[0miterator\u001b[0m\u001b[0;34m)\u001b[0m\u001b[0;34m)\u001b[0m\u001b[0;34m,\u001b[0m \u001b[0;32mNone\u001b[0m\u001b[0;34m,\u001b[0m \u001b[0mfscope\u001b[0m\u001b[0;34m)\u001b[0m\u001b[0;34m\u001b[0m\u001b[0;34m\u001b[0m\u001b[0m\n\u001b[0m\u001b[1;32m     16\u001b[0m                 \u001b[0;32mexcept\u001b[0m\u001b[0;34m:\u001b[0m\u001b[0;34m\u001b[0m\u001b[0;34m\u001b[0m\u001b[0m\n\u001b[1;32m     17\u001b[0m                     \u001b[0mdo_return\u001b[0m \u001b[0;34m=\u001b[0m \u001b[0;32mFalse\u001b[0m\u001b[0;34m\u001b[0m\u001b[0;34m\u001b[0m\u001b[0m\n",
            "\u001b[0;31mValueError\u001b[0m: in user code:\n\n    File \"/usr/local/lib/python3.8/dist-packages/keras/engine/training.py\", line 1051, in train_function  *\n        return step_function(self, iterator)\n    File \"/usr/local/lib/python3.8/dist-packages/keras/engine/training.py\", line 1040, in step_function  **\n        outputs = model.distribute_strategy.run(run_step, args=(data,))\n    File \"/usr/local/lib/python3.8/dist-packages/keras/engine/training.py\", line 1030, in run_step  **\n        outputs = model.train_step(data)\n    File \"/usr/local/lib/python3.8/dist-packages/keras/engine/training.py\", line 889, in train_step\n        y_pred = self(x, training=True)\n    File \"/usr/local/lib/python3.8/dist-packages/keras/utils/traceback_utils.py\", line 67, in error_handler\n        raise e.with_traceback(filtered_tb) from None\n    File \"/usr/local/lib/python3.8/dist-packages/keras/engine/input_spec.py\", line 248, in assert_input_compatibility\n        raise ValueError(\n\n    ValueError: Exception encountered when calling layer \"sequential_1\" (type Sequential).\n    \n    Input 0 of layer \"dense_3\" is incompatible with the layer: expected axis -1 of input shape to have value 28, but received input with shape (None, 784)\n    \n    Call arguments received by layer \"sequential_1\" (type Sequential):\n      • inputs=tf.Tensor(shape=(None, 784), dtype=float32)\n      • training=True\n      • mask=None\n"
          ]
        }
      ],
      "source": [
        "history = model.fit(X_train, y_train, batch_size=32, epochs=200, verbose=1, validation_data=(X_val, y_val))"
      ]
    }
  ],
  "metadata": {
    "colab": {
      "provenance": [],
      "authorship_tag": "ABX9TyPjHzyGzAvC8unCZmunmaaq",
      "include_colab_link": true
    },
    "kernelspec": {
      "display_name": "Python 3",
      "name": "python3"
    },
    "language_info": {
      "name": "python"
    }
  },
  "nbformat": 4,
  "nbformat_minor": 0
}